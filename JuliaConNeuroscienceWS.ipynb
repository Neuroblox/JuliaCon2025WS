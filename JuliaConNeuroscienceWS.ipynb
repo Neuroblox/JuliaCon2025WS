{
 "cells": [
  {
   "cell_type": "code",
   "execution_count": null,
   "metadata": {
    "collapsed": false,
    "jupyter": {
     "outputs_hidden": false
    }
   },
   "outputs": [],
   "source": [
    "import Pkg\n",
    "Pkg.activate(@__DIR__)"
   ]
  },
  {
   "cell_type": "code",
   "execution_count": null,
   "metadata": {
    "collapsed": false,
    "jupyter": {
     "outputs_hidden": false
    }
   },
   "outputs": [],
   "source": [
    "using CairoMakie, ModelingToolkit, OrdinaryDiffEq, LaTeXStrings, Statistics, Printf"
   ]
  },
  {
   "cell_type": "markdown",
   "metadata": {
    "collapsed": false,
    "jupyter": {
     "outputs_hidden": false
    }
   },
   "source": [
    "# Introduction to Neuroscience in Julia\n",
    "\n",
    "# Workshop Module 1: Nernst Potential\n",
    "\n",
    "![](https://cocalc.com/blobs/Basis_of_Membrane_Potential2.png?uuid=20ed11f4-efb0-481d-b48e-74075d31425f)\n",
    "\n",
    "The Nernst equation describes the equilibrium potential for a single ion species across a membrane. It's fundamental to understanding how neurons generate and\n",
    "maintain electrical signals.\n",
    "\n",
    "The Nernst equation is:\n",
    "E\\_ion = \\(RT/zF\\) \\* ln\\(\\[ion\\]\\_out / \\[ion\\]\\_in\\)\n",
    "\n",
    "Where:\n",
    "\n",
    "- E_ion: equilibrium potential for the ion (V)\n",
    "- R: gas constant (8.314 J/(mol·K))\n",
    "- T: temperature (K)\n",
    "- z: valence of the ion\n",
    "- F: Faraday constant (96,485 C/mol)\n",
    "- [ion]_out, [ion]_in: ion concentrations outside and inside the cell\n",
    "\n"
   ]
  },
  {
   "cell_type": "code",
   "execution_count": null,
   "metadata": {
    "collapsed": false,
    "jupyter": {
     "outputs_hidden": false
    }
   },
   "outputs": [],
   "source": [
    "# Constants\n",
    "const R = 8.314      # Gas constant (J/(mol·K))\n",
    "const F = 96485      # Faraday constant (C/mol)\n",
    "const T = 310        # Body temperature (K, ~37°C)\n",
    "\n",
    "# Nernst equation function\n",
    "function nernst_potential(conc_out, conc_in, valence, temperature=T)\n",
    "    \"\"\"\n",
    "    Calculate the Nernst potential for an ion\n",
    "    \n",
    "    Parameters:\n",
    "    - conc_out: extracellular concentration (mM)\n",
    "    - conc_in: intracellular concentration (mM)\n",
    "    - valence: charge of the ion\n",
    "    - temperature: temperature in Kelvin (default: 310K)\n",
    "    \n",
    "    Returns:\n",
    "    - Equilibrium potential in mV\n",
    "    \"\"\"\n",
    "    RT_over_F = (R * temperature) / F\n",
    "    return 1000 * RT_over_F * log(conc_out / conc_in) / valence\n",
    "end"
   ]
  },
  {
   "cell_type": "code",
   "execution_count": null,
   "metadata": {
    "collapsed": false,
    "jupyter": {
     "outputs_hidden": false
    }
   },
   "outputs": [],
   "source": [
    "# Typical ion concentrations in mammalian neurons (mM)\n",
    "println(\"\\nTypical ion concentrations in mammalian neurons:\")\n",
    "println(\"Ion\\t\\tInside\\t\\tOutside\\t\\tValence\")\n",
    "\n",
    "# Potassium (K+)\n",
    "K_in = 140.0   # mM\n",
    "K_out = 5.0    # mM\n",
    "K_valence = 1\n",
    "E_K = nernst_potential(K_out, K_in, K_valence)\n",
    "@printf(\"K+\\t\\t%.1f mM\\t\\t%.1f mM\\t\\t%+d\\n\", K_in, K_out, K_valence)\n",
    "\n",
    "# Sodium (Na+)\n",
    "Na_in = 10.0   # mM\n",
    "Na_out = 145.0 # mM\n",
    "Na_valence = 1\n",
    "E_Na = nernst_potential(Na_out, Na_in, Na_valence)\n",
    "@printf(\"Na+\\t\\t%.1f mM\\t\\t%.1f mM\\t\\t%+d\\n\", Na_in, Na_out, Na_valence)\n",
    "\n",
    "# Chloride (Cl-)\n",
    "Cl_in = 10.0   # mM\n",
    "Cl_out = 110.0 # mM\n",
    "Cl_valence = -1\n",
    "E_Cl = nernst_potential(Cl_out, Cl_in, Cl_valence)\n",
    "@printf(\"Cl-\\t\\t%.1f mM\\t\\t%.1f mM\\t\\t%+d\\n\", Cl_in, Cl_out, Cl_valence)\n",
    "\n",
    "println(\"\\nCalculated Nernst potentials:\")\n",
    "@printf(\"E_K  = %.1f mV\\n\", E_K)\n",
    "@printf(\"E_Na = %.1f mV\\n\", E_Na)\n",
    "@printf(\"E_Cl = %.1f mV\\n\", E_Cl)"
   ]
  },
  {
   "cell_type": "markdown",
   "metadata": {
    "collapsed": false,
    "jupyter": {
     "outputs_hidden": false
    }
   },
   "source": [
    "## MODULE 2: THE HODGKIN-HUXLEY MODEL\n",
    "The Hodgkin-Huxley model describes the ionic mechanisms underlying the action\n",
    "potential in the squid giant axon. It consists of:\n",
    "\n",
    "1. The membrane equation: $C_{m} \\frac{dV}{dt} = I_{ext} - I_{Na} - I_{K} - I_{L}$\n",
    "2. Sodium current: $I_{Na} = g_{Na} m^3 h (V - E_{Na})$\n",
    "3. Potassium current: $I_{K} = g_{K} * n^4 (V - E_{K})$\n",
    "4. Leak current: $I_{L} = g_{L} (V - E_{L})$\n",
    "5. Gating variable dynamics: dx/dt = $\\alpha_{x}(V) * (1-x) - β_{x}(V) * x$\n",
    "\n",
    "Where m, h, n are gating variables for Na+ activation, Na+ inactivation, \n",
    "and K+ activation respectively."
   ]
  },
  {
   "cell_type": "code",
   "execution_count": null,
   "metadata": {
    "collapsed": false,
    "jupyter": {
     "outputs_hidden": false
    }
   },
   "outputs": [],
   "source": [
    "# Hodgkin-Huxley parameters (original squid axon values)\n",
    "struct HHParams\n",
    "    # Membrane capacitance (µF/cm²)\n",
    "    C_m::Float64\n",
    "    \n",
    "    # Maximum conductances (mS/cm²)\n",
    "    g_Na::Float64\n",
    "    g_K::Float64\n",
    "    g_L::Float64\n",
    "    \n",
    "    # Reversal potentials (mV)\n",
    "    E_Na::Float64\n",
    "    E_K::Float64\n",
    "    E_L::Float64\n",
    "    \n",
    "    HHParams() = new(1.0, 120.0, 36.0, 0.3, 50.0, -77.0, -54.387)\n",
    "end\n",
    "\n",
    "# Create parameter set\n",
    "params = HHParams()\n",
    "\n",
    "println(\"Hodgkin-Huxley Model Parameters:\")\n",
    "println(\"Membrane capacitance: $(params.C_m) µF/cm²\")\n",
    "println(\"Na+ conductance: $(params.g_Na) mS/cm²\")\n",
    "println(\"K+ conductance: $(params.g_K) mS/cm²\")\n",
    "println(\"Leak conductance: $(params.g_L) mS/cm²\")\n",
    "println(\"Na+ reversal potential: $(params.E_Na) mV\")\n",
    "println(\"K+ reversal potential: $(params.E_K) mV\")\n",
    "println(\"Leak reversal potential: $(params.E_L) mV\")"
   ]
  },
  {
   "cell_type": "code",
   "execution_count": null,
   "metadata": {
    "collapsed": false,
    "jupyter": {
     "outputs_hidden": false
    }
   },
   "outputs": [],
   "source": [
    "# Rate functions for gating variables\n",
    "function alpha_m(V)\n",
    "    if abs(V + 40) < 1e-6\n",
    "        return 1.0\n",
    "    else\n",
    "        return 0.1 * (V + 40) / (1 - exp(-(V + 40) / 10))\n",
    "    end\n",
    "end\n",
    "\n",
    "function beta_m(V)\n",
    "    return 4.0 * exp(-(V + 65) / 18)\n",
    "end\n",
    "\n",
    "function alpha_h(V)\n",
    "    return 0.07 * exp(-(V + 65) / 20)\n",
    "end\n",
    "\n",
    "function beta_h(V)\n",
    "    return 1.0 / (1 + exp(-(V + 35) / 10))\n",
    "end\n",
    "\n",
    "function alpha_n(V)\n",
    "    if abs(V + 55) < 1e-6\n",
    "        return 0.1\n",
    "    else\n",
    "        return 0.01 * (V + 55) / (1 - exp(-(V + 55) / 10))\n",
    "    end\n",
    "end\n",
    "\n",
    "function beta_n(V)\n",
    "    return 0.125 * exp(-(V + 65) / 80)\n",
    "end\n",
    "\n",
    "# Steady-state values and time constants\n",
    "m_inf(V) = alpha_m(V) / (alpha_m(V) + beta_m(V))\n",
    "h_inf(V) = alpha_h(V) / (alpha_h(V) + beta_h(V))\n",
    "n_inf(V) = alpha_n(V) / (alpha_n(V) + beta_n(V))\n",
    "\n",
    "tau_m(V) = 1 / (alpha_m(V) + beta_m(V))\n",
    "tau_h(V) = 1 / (alpha_h(V) + beta_h(V))\n",
    "tau_n(V) = 1 / (alpha_n(V) + beta_n(V))"
   ]
  },
  {
   "cell_type": "markdown",
   "metadata": {
    "collapsed": false,
    "jupyter": {
     "outputs_hidden": false
    }
   },
   "source": [
    "# Plotting gating variable steady-states and time constants"
   ]
  },
  {
   "cell_type": "code",
   "execution_count": null,
   "metadata": {
    "collapsed": false,
    "jupyter": {
     "outputs_hidden": false
    }
   },
   "outputs": [],
   "source": [
    "V_range = -100:1:50\n",
    "\n",
    "# Calculate steady-state values\n",
    "m_steady = [m_inf(V) for V in V_range]\n",
    "h_steady = [h_inf(V) for V in V_range]\n",
    "n_steady = [n_inf(V) for V in V_range]\n",
    "\n",
    "# Calculate time constants\n",
    "tau_m_vals = [tau_m(V) for V in V_range]\n",
    "tau_h_vals = [tau_h(V) for V in V_range]\n",
    "tau_n_vals = [tau_n(V) for V in V_range]\n",
    "\n",
    "# Plot steady-state values\n",
    "fig3 = Figure()\n",
    "ax3 = Axis(fig3[1, 1],\n",
    "    xlabel = \"Membrane Potential (mV)\",\n",
    "    ylabel = \"Steady-state Value\",\n",
    "    title = \"Gating Variable Steady States\")\n",
    "\n",
    "lines!(ax3, V_range, m_steady, label = \"m∞ (Na⁺ activation)\", linewidth = 3)\n",
    "lines!(ax3, V_range, h_steady, label = \"h∞ (Na⁺ inactivation)\", linewidth = 3)\n",
    "lines!(ax3, V_range, n_steady, label = \"n∞ (K⁺ activation)\", linewidth = 3)\n",
    "\n",
    "axislegend(ax3, position = :rt)\n",
    "display(fig3)"
   ]
  },
  {
   "cell_type": "code",
   "execution_count": null,
   "metadata": {
    "collapsed": false,
    "jupyter": {
     "outputs_hidden": false
    }
   },
   "outputs": [],
   "source": [
    "fig4 = Figure()\n",
    "ax4 = Axis(fig4[1, 1],\n",
    "    xlabel = \"Membrane Potential (mV)\",\n",
    "    ylabel = \"Time Constant (ms)\",\n",
    "    title = \"Gating Variable Time Constants\",\n",
    "    yscale = log10)\n",
    "\n",
    "lines!(ax4, V_range, tau_m_vals, label = \"τₘ (Na⁺ activation)\", linewidth = 3)\n",
    "lines!(ax4, V_range, tau_h_vals, label = \"τₕ (Na⁺ inactivation)\", linewidth = 3)\n",
    "lines!(ax4, V_range, tau_n_vals, label = \"τₙ (K⁺ activation)\", linewidth = 3)\n",
    "\n",
    "axislegend(ax4, position = :rt)\n",
    "display(fig4)"
   ]
  },
  {
   "cell_type": "markdown",
   "metadata": {
    "collapsed": false,
    "jupyter": {
     "outputs_hidden": false
    }
   },
   "source": [
    "# Building Hodgkin-Huxley model with ModelingToolkit"
   ]
  },
  {
   "cell_type": "code",
   "execution_count": null,
   "metadata": {
    "collapsed": false,
    "jupyter": {
     "outputs_hidden": false
    }
   },
   "outputs": [],
   "source": [
    "# Define the symbolic variables and parameters using ModelingToolkit\n",
    "@independent_variables t\n",
    "@variables V(t) m(t) h(t) n(t)\n",
    "@parameters C_m g_Na g_K g_L E_Na E_K E_L I_ext\n",
    "\n",
    "# Create the differential operator\n",
    "D = Differential(t)\n",
    "\n",
    "# Define the rate functions as symbolic expressions\n",
    "\n",
    "# Alpha and beta functions for gating variables\n",
    "α_m = ifelse(abs(V + 40) < 1e-6, 1.0, 0.1 * (V + 40) / (1 - exp(-(V + 40) / 10)))\n",
    "β_m = 4.0 * exp(-(V + 65) / 18)\n",
    "    \n",
    "α_h = 0.07 * exp(-(V + 65) / 20)\n",
    "β_h = 1.0 / (1 + exp(-(V + 35) / 10))\n",
    "    \n",
    "α_n = ifelse(abs(V + 55) < 1e-6, 0.1, 0.01 * (V + 55) / (1 - exp(-(V + 55) / 10)))\n",
    "β_n = 0.125 * exp(-(V + 65) / 80)\n",
    "\n",
    "# Ionic currents\n",
    "I_Na = g_Na * m^3 * h * (V - E_Na)\n",
    "I_K = g_K * n^4 * (V - E_K)\n",
    "I_L = g_L * (V - E_L)\n",
    "\n",
    "# Differential equations\n",
    "eqs = [\n",
    "    D(V) ~ (I_ext - I_Na - I_K - I_L) / C_m,\n",
    "    D(m) ~ α_m * (1 - m) - β_m * m,\n",
    "    D(h) ~ α_h * (1 - h) - β_h * h,\n",
    "    D(n) ~ α_n * (1 - n) - β_n * n\n",
    "]\n",
    "\n",
    "\n",
    "# Create the system\n",
    "@named hh_system = ODESystem(eqs,t)\n",
    "\n",
    "# Simplify the system\n",
    "hh_system_simplified = structural_simplify(hh_system)\n",
    "\n",
    "# Define parameter values\n",
    "param_values = [\n",
    "    C_m => 1.0,      # µF/cm²\n",
    "    g_Na => 120.0,   # mS/cm²  \n",
    "    g_K => 36.0,     # mS/cm²\n",
    "    g_L => 0.3,      # mS/cm²\n",
    "    E_Na => 50.0,    # mV\n",
    "    E_K => -77.0,    # mV\n",
    "    E_L => -54.387,  # mV\n",
    "    I_ext => 10.0    # µA/cm²\n",
    "]\n",
    "\n",
    "# Initial conditions (resting state)\n",
    "V_rest = -65.0  # mV\n",
    "m0 = m_inf(V_rest)\n",
    "h0 = h_inf(V_rest)\n",
    "n0 = n_inf(V_rest)\n",
    "\n",
    "initial_conditions = [\n",
    "    V => V_rest,\n",
    "    m => m0,\n",
    "    h => h0,\n",
    "    n => n0\n",
    "]\n",
    "\n",
    "# Create and solve the ODE problem\n",
    "tspan = (0.0, 50.0)  # 50 ms simulation\n",
    "prob = ODEProblem(hh_system_simplified, initial_conditions, tspan, param_values)\n",
    "\n",
    "sol = solve(prob, Tsit5(), saveat=0.01)\n",
    "\n",
    "# Extract solutions for plotting\n",
    "times = sol.t\n",
    "V_sol = sol[V]\n",
    "m_sol = sol[m]\n",
    "h_sol = sol[h]\n",
    "n_sol = sol[n]\n",
    "\n",
    "# Plot the action potential\n",
    "fig5 = Figure(;size = (1000, 600))\n",
    "ax5 = Axis(fig5[1, 1],\n",
    "    xlabel = \"Time (ms)\",\n",
    "    ylabel = \"Membrane Potential (mV)\",\n",
    "    title = \"Hodgkin-Huxley Action Potential (I = 10 µA/cm²)\")\n",
    "\n",
    "lines!(ax5, times, V_sol, linewidth = 4, color = :blue)\n",
    "hlines!(ax5, [V_rest], linestyle = :dash, color = :gray, linewidth = 2, label = \"Resting potential\")\n",
    "\n",
    "axislegend(ax5, position = :rt)\n",
    "display(fig5)"
   ]
  },
  {
   "cell_type": "code",
   "execution_count": null,
   "metadata": {
    "collapsed": false,
    "jupyter": {
     "outputs_hidden": false
    }
   },
   "outputs": [],
   "source": [
    "# Plot gating variables over time\n",
    "fig6 = Figure(;size = (1000, 600))\n",
    "ax6 = Axis(fig6[1, 1],\n",
    "    xlabel = \"Time (ms)\",\n",
    "    ylabel = \"Gating Variable\",\n",
    "    title = \"Gating Variables During Action Potential\")\n",
    "\n",
    "lines!(ax6, times, m_sol, label = \"m (Na⁺ activation)\", linewidth = 3)\n",
    "lines!(ax6, times, h_sol, label = \"h (Na⁺ inactivation)\", linewidth = 3)\n",
    "lines!(ax6, times, n_sol, label = \"n (K⁺ activation)\", linewidth = 3)\n",
    "\n",
    "axislegend(ax6, position = :rt)\n",
    "display(fig6)"
   ]
  },
  {
   "cell_type": "code",
   "execution_count": null,
   "metadata": {
    "collapsed": false,
    "jupyter": {
     "outputs_hidden": false
    }
   },
   "outputs": [],
   "source": [
    "# Calculate and plot ionic currents\n",
    "I_Na_vals = [-params.g_Na * m_sol[i]^3 * h_sol[i] * (V_sol[i] - params.E_Na) for i in 1:length(times)]\n",
    "I_K_vals = [-params.g_K * n_sol[i]^4 * (V_sol[i] - params.E_K) for i in 1:length(times)]\n",
    "I_L_vals = [-params.g_L * (V_sol[i] - params.E_L) for i in 1:length(times)]\n",
    "\n",
    "fig7 = Figure(;size = (1000, 600))\n",
    "ax7 = Axis(fig7[1, 1],\n",
    "    xlabel = \"Time (ms)\",\n",
    "    ylabel = \"Current (µA/cm²)\",\n",
    "    title = \"Ionic Currents During Action Potential\")\n",
    "\n",
    "lines!(ax7, times, I_Na_vals, label = \"I_Na\", linewidth = 3)\n",
    "lines!(ax7, times, I_K_vals, label = \"I_K\", linewidth = 3)\n",
    "lines!(ax7, times, I_L_vals, label = \"I_leak\", linewidth = 3)\n",
    "hlines!(ax7, [0], linestyle = :dash, color = :black, alpha = 0.5)\n",
    "\n",
    "axislegend(ax7, position = :rt)\n",
    "display(fig7)"
   ]
  }
 ],
 "metadata": {
  "kernelspec": {
   "display_name": "Julia 1.11.5",
   "language": "julia",
   "name": "julia-1.11"
  },
  "language_info": {
   "file_extension": ".jl",
   "mimetype": "application/julia",
   "name": "julia",
   "version": "1.11.5"
  }
 },
 "nbformat": 4,
 "nbformat_minor": 4
}
